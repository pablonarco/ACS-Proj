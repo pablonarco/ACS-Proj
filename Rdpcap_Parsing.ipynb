{
  "nbformat": 4,
  "nbformat_minor": 0,
  "metadata": {
    "colab": {
      "name": "Rdpcap Parsing.ipynb",
      "provenance": [],
      "collapsed_sections": []
    },
    "kernelspec": {
      "name": "python3",
      "display_name": "Python 3"
    }
  },
  "cells": [
    {
      "cell_type": "markdown",
      "metadata": {
        "id": "jUdxeFbQu_Fo",
        "colab_type": "text"
      },
      "source": [
        "# **Scapy**"
      ]
    },
    {
      "cell_type": "code",
      "metadata": {
        "id": "T2EnLDnSb_vw",
        "colab_type": "code",
        "outputId": "7bd634a0-3cb3-447d-893a-50d32a81e64a",
        "colab": {
          "base_uri": "https://localhost:8080/",
          "height": 199
        }
      },
      "source": [
        "!pip install scapy"
      ],
      "execution_count": 0,
      "outputs": [
        {
          "output_type": "stream",
          "text": [
            "Collecting scapy\n",
            "\u001b[?25l  Downloading https://files.pythonhosted.org/packages/52/e7/464079606a9cf97ad04936c52a5324d14dae36215f9319bf3faa46a7907d/scapy-2.4.3.tar.gz (905kB)\n",
            "\u001b[K     |████████████████████████████████| 911kB 2.5MB/s \n",
            "\u001b[?25hBuilding wheels for collected packages: scapy\n",
            "  Building wheel for scapy (setup.py) ... \u001b[?25l\u001b[?25hdone\n",
            "  Created wheel for scapy: filename=scapy-2.4.3-py2.py3-none-any.whl size=1043873 sha256=82a9f1766a219aca94b113fff886a3451d843c11a33cb41b643c8fea47fa1b27\n",
            "  Stored in directory: /root/.cache/pip/wheels/95/bf/51/905b3e84ec4ca910ce4ae92173c7334623105a265bdd1d9438\n",
            "Successfully built scapy\n",
            "Installing collected packages: scapy\n",
            "Successfully installed scapy-2.4.3\n"
          ],
          "name": "stdout"
        }
      ]
    },
    {
      "cell_type": "markdown",
      "metadata": {
        "id": "J8gpX9LO39yV",
        "colab_type": "text"
      },
      "source": [
        "rdpcap is the fn we are using"
      ]
    },
    {
      "cell_type": "code",
      "metadata": {
        "id": "EM5W4wUfcB1F",
        "colab_type": "code",
        "colab": {}
      },
      "source": [
        "from scapy.all import *"
      ],
      "execution_count": 0,
      "outputs": []
    },
    {
      "cell_type": "code",
      "metadata": {
        "id": "2oqjUsp64Wmu",
        "colab_type": "code",
        "outputId": "5cef97c7-f886-46fe-f8c9-b60636ef6775",
        "colab": {
          "base_uri": "https://localhost:8080/",
          "height": 128
        }
      },
      "source": [
        "from google.colab import drive\n",
        "drive.mount('/content/drive')"
      ],
      "execution_count": 0,
      "outputs": [
        {
          "output_type": "stream",
          "text": [
            "Go to this URL in a browser: https://accounts.google.com/o/oauth2/auth?client_id=947318989803-6bn6qk8qdgf4n4g3pfee6491hc0brc4i.apps.googleusercontent.com&redirect_uri=urn%3aietf%3awg%3aoauth%3a2.0%3aoob&response_type=code&scope=email%20https%3a%2f%2fwww.googleapis.com%2fauth%2fdocs.test%20https%3a%2f%2fwww.googleapis.com%2fauth%2fdrive%20https%3a%2f%2fwww.googleapis.com%2fauth%2fdrive.photos.readonly%20https%3a%2f%2fwww.googleapis.com%2fauth%2fpeopleapi.readonly\n",
            "\n",
            "Enter your authorization code:\n",
            "··········\n",
            "Mounted at /content/drive\n"
          ],
          "name": "stdout"
        }
      ]
    },
    {
      "cell_type": "markdown",
      "metadata": {
        "id": "5g3_idIK5sfh",
        "colab_type": "text"
      },
      "source": [
        "Loading file from Google drive"
      ]
    },
    {
      "cell_type": "code",
      "metadata": {
        "id": "6a4XIMpTSOzC",
        "colab_type": "code",
        "colab": {}
      },
      "source": [
        "pkt = rdpcap('/content/drive/My Drive/Colab Notebooks/test.pcap')"
      ],
      "execution_count": 0,
      "outputs": []
    },
    {
      "cell_type": "markdown",
      "metadata": {
        "id": "D32iK7-758kx",
        "colab_type": "text"
      },
      "source": [
        "Basic info of file"
      ]
    },
    {
      "cell_type": "code",
      "metadata": {
        "id": "nVmwn2VrSvi_",
        "colab_type": "code",
        "outputId": "b840ff53-b03f-45a2-8f0f-ff878289deaa",
        "colab": {
          "base_uri": "https://localhost:8080/",
          "height": 110
        }
      },
      "source": [
        "print (type(pkt))       #type of file\n",
        "print (len(pkt))        #total packets in pcap file\n",
        "print (pkt)             #brief summary\n",
        "print (pkt[0])          #1st pkt in binary form, hex representation"
      ],
      "execution_count": 0,
      "outputs": [
        {
          "output_type": "stream",
          "text": [
            "<class 'scapy.plist.PacketList'>\n",
            "141\n",
            "<test.pcap: TCP:106 UDP:28 ICMP:6 Other:1>\n",
            "b'\\x00\\x1f\\xf3<\\xe1\\x13\\xf8\\x1e\\xdf\\xe5\\x84:\\x08\\x00E\\x00\\x00O\\xdeS@\\x00@\\x06G\\xab\\xac\\x10\\x0b\\x0cJ}\\x13\\x11\\xfc5\\x01\\xbb\\xc6\\xd9\\x14\\xd0\\xc5\\x1e-\\xbf\\x80\\x18\\xff\\xff\\xcb\\x8c\\x00\\x00\\x01\\x01\\x08\\n\\x1a}\\x84,7\\xc5X\\xb0\\x15\\x03\\x01\\x00\\x16C\\x1a\\x88\\x1e\\xfaz\\xbc\"n\\xe62zSG\\x00\\xa7]\\xccd\\xea\\x8e\\x92'\n"
          ],
          "name": "stdout"
        }
      ]
    },
    {
      "cell_type": "code",
      "metadata": {
        "id": "2aphj3Oz-_5g",
        "colab_type": "code",
        "outputId": "1de4ec8e-bf4a-46d7-fd3d-f6c375e6239c",
        "colab": {
          "base_uri": "https://localhost:8080/",
          "height": 55
        }
      },
      "source": [
        "pkt [0]"
      ],
      "execution_count": 0,
      "outputs": [
        {
          "output_type": "execute_result",
          "data": {
            "text/plain": [
              "<Ether  dst=00:1f:f3:3c:e1:13 src=f8:1e:df:e5:84:3a type=IPv4 |<IP  version=4 ihl=5 tos=0x0 len=79 id=56915 flags=DF frag=0 ttl=64 proto=6 chksum=0x47ab src=172.16.11.12 dst=74.125.19.17 |<TCP  sport=64565 dport=443 seq=3336115408 ack=3307089343 dataofs=8 reserved=0 flags=PA window=65535 chksum=0xcb8c urgptr=0 options=[('NOP', None), ('NOP', None), ('Timestamp', (444433452, 935680176))] |<Raw  load='\\x15\\x03\\x01\\x00\\x16C\\x1a\\x88\\x1e\\xfaz\\xbc\"n\\xe62zSG\\x00\\xa7]\\xccd\\xea\\x8e\\x92' |>>>>"
            ]
          },
          "metadata": {
            "tags": []
          },
          "execution_count": 54
        }
      ]
    },
    {
      "cell_type": "markdown",
      "metadata": {
        "id": "6Y8BOV0C5-pw",
        "colab_type": "text"
      },
      "source": [
        "Overall summary of pcap file by pkt"
      ]
    },
    {
      "cell_type": "code",
      "metadata": {
        "id": "gzhN3pky4G9l",
        "colab_type": "code",
        "outputId": "4fcd70ae-7df4-470a-ef58-1f5b82142c81",
        "colab": {
          "base_uri": "https://localhost:8080/",
          "height": 1000
        }
      },
      "source": [
        "pkt.summary()"
      ],
      "execution_count": 0,
      "outputs": [
        {
          "output_type": "stream",
          "text": [
            "Ether / IP / TCP 172.16.11.12:64565 > 74.125.19.17:443 PA / Raw\n",
            "Ether / IP / TCP 172.16.11.12:64565 > 74.125.19.17:443 FA\n",
            "Ether / IP / TCP 74.125.19.17:443 > 172.16.11.12:64565 A\n",
            "Ether / IP / TCP 172.16.11.12:64565 > 74.125.19.17:443 FA\n",
            "Ether / IP / TCP 74.125.19.17:443 > 172.16.11.12:64565 FA\n",
            "Ether / IP / TCP 172.16.11.12:64565 > 74.125.19.17:443 FA\n",
            "Ether / IP / TCP 74.125.19.17:443 > 172.16.11.12:64565 A\n",
            "Ether / IP / TCP 172.16.11.12:64565 > 74.125.19.17:443 A\n",
            "Ether / IP / TCP 74.125.19.17:443 > 172.16.11.12:64565 A\n",
            "Ether / ARP who has 172.16.11.194 says 172.16.11.1\n",
            "Ether / IP / TCP 172.16.11.12:64581 > 216.34.181.45:80 S\n",
            "Ether / IP / TCP 216.34.181.45:80 > 172.16.11.12:64581 SA\n",
            "Ether / IP / TCP 172.16.11.12:64581 > 216.34.181.45:80 A\n",
            "Ether / IP / TCP 172.16.11.12:64581 > 216.34.181.45:80 PA / Raw\n",
            "Ether / IP / TCP 216.34.181.45:80 > 172.16.11.12:64581 A\n",
            "Ether / IP / TCP 216.34.181.45:80 > 172.16.11.12:64581 A / Raw\n",
            "Ether / IP / TCP 216.34.181.45:80 > 172.16.11.12:64581 A / Raw\n",
            "Ether / IP / TCP 172.16.11.12:64581 > 216.34.181.45:80 A\n",
            "Ether / IP / TCP 216.34.181.45:80 > 172.16.11.12:64581 PA / Raw\n",
            "Ether / IP / TCP 172.16.11.12:64581 > 216.34.181.45:80 A\n",
            "Ether / IP / UDP / DNS Qry \"b'e872.g.akamaiedge.net.'\" \n",
            "Ether / IP / UDP / DNS Qry \"b'e872.g.akamaiedge.net.'\" \n",
            "Ether / IP / UDP / DNS Ans \"96.17.211.172\" \n",
            "Ether / IP / TCP 216.34.181.45:80 > 172.16.11.12:64581 A / Raw\n",
            "Ether / IP / TCP 216.34.181.45:80 > 172.16.11.12:64581 A / Raw\n",
            "Ether / IP / TCP 172.16.11.12:64581 > 216.34.181.45:80 A\n",
            "Ether / IP / TCP 216.34.181.45:80 > 172.16.11.12:64581 A / Raw\n",
            "Ether / IP / TCP 172.16.11.12:64581 > 216.34.181.45:80 A\n",
            "Ether / IP / TCP 216.34.181.45:80 > 172.16.11.12:64581 A / Raw\n",
            "Ether / IP / TCP 216.34.181.45:80 > 172.16.11.12:64581 A / Raw\n",
            "Ether / IP / TCP 172.16.11.12:64581 > 216.34.181.45:80 A\n",
            "Ether / IP / TCP 172.16.11.12:64582 > 96.17.211.172:80 S\n",
            "Ether / IP / TCP 172.16.11.12:64583 > 96.17.211.172:80 S\n",
            "Ether / IP / TCP 216.34.181.45:80 > 172.16.11.12:64581 A / Raw\n",
            "Ether / IP / UDP / DNS Ans \n",
            "Ether / IP / ICMP 172.16.11.12 > 172.16.11.1 dest-unreach port-unreachable / IPerror / UDPerror\n",
            "Ether / IP / TCP 96.17.211.172:80 > 172.16.11.12:64582 SA\n",
            "Ether / IP / TCP 172.16.11.12:64582 > 96.17.211.172:80 A\n",
            "Ether / IP / TCP 172.16.11.12:64582 > 96.17.211.172:80 PA / Raw\n",
            "Ether / IP / TCP 96.17.211.172:80 > 172.16.11.12:64583 SA\n",
            "Ether / IP / TCP 172.16.11.12:64583 > 96.17.211.172:80 A\n",
            "Ether / IP / TCP 172.16.11.12:64583 > 96.17.211.172:80 PA / Raw\n",
            "Ether / IP / TCP 96.17.211.172:80 > 172.16.11.12:64582 A\n",
            "Ether / IP / TCP 96.17.211.172:80 > 172.16.11.12:64583 A\n",
            "Ether / IP / TCP 216.34.181.45:80 > 172.16.11.12:64581 A / Raw\n",
            "Ether / IP / TCP 172.16.11.12:64581 > 216.34.181.45:80 A\n",
            "Ether / IP / TCP 216.34.181.45:80 > 172.16.11.12:64581 A / Raw\n",
            "Ether / IP / TCP 216.34.181.45:80 > 172.16.11.12:64581 A / Raw\n",
            "Ether / IP / TCP 172.16.11.12:64581 > 216.34.181.45:80 A\n",
            "Ether / IP / TCP 216.34.181.45:80 > 172.16.11.12:64581 A / Raw\n",
            "Ether / IP / TCP 216.34.181.45:80 > 172.16.11.12:64581 A / Raw\n",
            "Ether / IP / TCP 172.16.11.12:64581 > 216.34.181.45:80 A\n",
            "Ether / IP / TCP 216.34.181.45:80 > 172.16.11.12:64581 A / Raw\n",
            "Ether / IP / TCP 172.16.11.12:64581 > 216.34.181.45:80 A\n",
            "Ether / IP / TCP 216.34.181.45:80 > 172.16.11.12:64581 A / Raw\n",
            "Ether / IP / TCP 216.34.181.45:80 > 172.16.11.12:64581 PA / Raw\n",
            "Ether / IP / TCP 172.16.11.12:64581 > 216.34.181.45:80 A\n",
            "Ether / IP / TCP 216.34.181.45:80 > 172.16.11.12:64581 A / Raw\n",
            "Ether / IP / TCP 216.34.181.45:80 > 172.16.11.12:64581 PA / Raw\n",
            "Ether / IP / TCP 172.16.11.12:64581 > 216.34.181.45:80 A\n",
            "Ether / IP / TCP 172.16.11.12:64584 > 96.17.211.172:80 S\n",
            "Ether / IP / TCP 172.16.11.12:64585 > 96.17.211.172:80 S\n",
            "Ether / IP / TCP 96.17.211.172:80 > 172.16.11.12:64584 SA\n",
            "Ether / IP / TCP 172.16.11.12:64584 > 96.17.211.172:80 A\n",
            "Ether / IP / TCP 172.16.11.12:64584 > 96.17.211.172:80 PA / Raw\n",
            "Ether / IP / TCP 96.17.211.172:80 > 172.16.11.12:64585 SA\n",
            "Ether / IP / TCP 172.16.11.12:64585 > 96.17.211.172:80 A\n",
            "Ether / IP / TCP 172.16.11.12:64585 > 96.17.211.172:80 PA / Raw\n",
            "Ether / IP / TCP 216.34.181.45:80 > 172.16.11.12:64581 A / Raw\n",
            "Ether / IP / TCP 216.34.181.45:80 > 172.16.11.12:64581 A / Raw\n",
            "Ether / IP / TCP 172.16.11.12:64581 > 216.34.181.45:80 A\n",
            "Ether / IP / TCP 216.34.181.45:80 > 172.16.11.12:64581 A / Raw\n",
            "Ether / IP / TCP 216.34.181.45:80 > 172.16.11.12:64581 A / Raw\n",
            "Ether / IP / TCP 172.16.11.12:64581 > 216.34.181.45:80 A\n",
            "Ether / IP / TCP 216.34.181.45:80 > 172.16.11.12:64581 A / Raw\n",
            "Ether / IP / TCP 216.34.181.45:80 > 172.16.11.12:64581 A / Raw\n",
            "Ether / IP / TCP 172.16.11.12:64581 > 216.34.181.45:80 A\n",
            "Ether / IP / TCP 216.34.181.45:80 > 172.16.11.12:64581 A / Raw\n",
            "Ether / IP / TCP 216.34.181.45:80 > 172.16.11.12:64581 A / Raw\n",
            "Ether / IP / TCP 172.16.11.12:64581 > 216.34.181.45:80 A\n",
            "Ether / IP / TCP 216.34.181.45:80 > 172.16.11.12:64581 A / Raw\n",
            "Ether / IP / TCP 172.16.11.12:64581 > 216.34.181.45:80 A\n",
            "Ether / IP / TCP 216.34.181.45:80 > 172.16.11.12:64581 A / Raw\n",
            "Ether / IP / TCP 216.34.181.45:80 > 172.16.11.12:64581 A / Raw\n",
            "Ether / IP / TCP 172.16.11.12:64581 > 216.34.181.45:80 A\n",
            "Ether / IP / TCP 96.17.211.172:80 > 172.16.11.12:64584 A\n",
            "Ether / IP / TCP 96.17.211.172:80 > 172.16.11.12:64584 A / Raw\n",
            "Ether / IP / TCP 96.17.211.172:80 > 172.16.11.12:64584 A / Raw\n",
            "Ether / IP / TCP 172.16.11.12:64584 > 96.17.211.172:80 A\n",
            "Ether / IP / TCP 96.17.211.172:80 > 172.16.11.12:64584 PA / Raw\n",
            "Ether / IP / TCP 172.16.11.12:64584 > 96.17.211.172:80 A\n",
            "Ether / IP / TCP 96.17.211.172:80 > 172.16.11.12:64585 A\n",
            "Ether / IP / TCP 96.17.211.172:80 > 172.16.11.12:64585 PA / Raw\n",
            "Ether / IP / TCP 172.16.11.12:64585 > 96.17.211.172:80 A\n",
            "Ether / IP / TCP 96.17.211.172:80 > 172.16.11.12:64583 PA / Raw\n",
            "Ether / IP / TCP 172.16.11.12:64583 > 96.17.211.172:80 A\n",
            "Ether / IP / TCP 216.34.181.45:80 > 172.16.11.12:64581 PA / Raw\n",
            "Ether / IP / TCP 172.16.11.12:64581 > 216.34.181.45:80 A\n",
            "Ether / IP / TCP 96.17.211.172:80 > 172.16.11.12:64582 PA / Raw\n",
            "Ether / IP / TCP 172.16.11.12:64582 > 96.17.211.172:80 A\n",
            "Ether / IP / TCP 96.17.211.172:80 > 172.16.11.12:64582 FA\n",
            "Ether / IP / TCP 172.16.11.12:64582 > 96.17.211.172:80 A\n",
            "Ether / IP / TCP 172.16.11.12:64584 > 96.17.211.172:80 PA / Raw\n",
            "Ether / IP / TCP 172.16.11.12:64585 > 96.17.211.172:80 PA / Raw\n",
            "Ether / IP / TCP 172.16.11.12:64583 > 96.17.211.172:80 PA / Raw\n",
            "Ether / IP / TCP 96.17.211.172:80 > 172.16.11.12:64584 PA / Raw\n",
            "Ether / IP / TCP 172.16.11.12:64584 > 96.17.211.172:80 A\n",
            "Ether / IP / TCP 96.17.211.172:80 > 172.16.11.12:64583 A\n",
            "Ether / IP / TCP 96.17.211.172:80 > 172.16.11.12:64585 PA / Raw\n",
            "Ether / IP / TCP 172.16.11.12:64585 > 96.17.211.172:80 A\n",
            "Ether / IP / TCP 96.17.211.172:80 > 172.16.11.12:64583 PA / Raw\n",
            "Ether / IP / TCP 172.16.11.12:64583 > 96.17.211.172:80 A\n",
            "Ether / IP / UDP / DNS Qry \"b'amd.vendors.slashdot.org.'\" \n",
            "Ether / IP / UDP / DNS Qry \"b'amd.vendors.slashdot.org.'\" \n",
            "Ether / IP / UDP / DNS Ans \"216.34.181.47\" \n",
            "Ether / IP / UDP / DNS Ans \"216.34.181.47\" \n",
            "Ether / IP / UDP / DNS Qry \"b'rss.slashdot.org.'\" \n",
            "Ether / IP / UDP / DNS Qry \"b'rss.slashdot.org.'\" \n",
            "Ether / IP / UDP / DNS Ans \"b'sourceforge.feedproxy.ghs.google.com.'\" \n",
            "Ether / IP / UDP / DNS Qry \"b'apache.slashdot.org.'\" \n",
            "Ether / IP / UDP / DNS Ans \"216.34.181.48\" \n",
            "Ether / IP / ICMP 172.16.11.12 > 172.16.11.1 dest-unreach port-unreachable / IPerror / UDPerror\n",
            "Ether / IP / UDP / DNS Ans \"b'sourceforge.feedproxy.ghs.google.com.'\" \n",
            "Ether / IP / ICMP 172.16.11.12 > 172.16.11.1 dest-unreach port-unreachable / IPerror / UDPerror\n",
            "Ether / IP / UDP / DNS Qry \"b'bsd.slashdot.org.'\" \n",
            "Ether / IP / UDP / DNS Qry \"b'bsd.slashdot.org.'\" \n",
            "Ether / IP / UDP / DNS Qry \"b'entertainment.slashdot.org.'\" \n",
            "Ether / IP / UDP / DNS Ans \"216.34.181.48\" \n",
            "Ether / IP / ICMP 172.16.11.12 > 172.16.11.1 dest-unreach port-unreachable / IPerror / UDPerror\n",
            "Ether / IP / UDP / DNS Ans \"216.34.181.48\" \n",
            "Ether / IP / ICMP 172.16.11.12 > 172.16.11.1 dest-unreach port-unreachable / IPerror / UDPerror\n",
            "Ether / IP / UDP / DNS Qry \"b'entertainment.slashdot.org.'\" \n",
            "Ether / IP / UDP / DNS Qry \"b'features.slashdot.org.'\" \n",
            "Ether / IP / UDP / DNS Ans \"216.34.181.48\" \n",
            "Ether / IP / UDP / DNS Qry \"b'games.slashdot.org.'\" \n",
            "Ether / IP / UDP / DNS Ans \n",
            "Ether / IP / UDP / DNS Qry \"b'games.slashdot.org.'\" \n",
            "Ether / IP / UDP / DNS Ans \"216.34.181.48\" \n",
            "Ether / IP / UDP / DNS Ans \n",
            "Ether / IP / UDP / DNS Ans \"216.34.181.48\" \n",
            "Ether / IP / ICMP 172.16.11.12 > 172.16.11.1 dest-unreach port-unreachable / IPerror / UDPerror\n"
          ],
          "name": "stdout"
        }
      ]
    },
    {
      "cell_type": "markdown",
      "metadata": {
        "id": "3mXAbK-Q6YDM",
        "colab_type": "text"
      },
      "source": [
        "# Packet and Header Summary\n",
        "\n",
        "---\n",
        "\n",
        "\n",
        "\n",
        "---\n",
        "\n"
      ]
    },
    {
      "cell_type": "code",
      "metadata": {
        "id": "niB_OnD-8shY",
        "colab_type": "code",
        "outputId": "3f91eda7-ddc9-4d55-b0b0-8e683b56a3c1",
        "colab": {
          "base_uri": "https://localhost:8080/",
          "height": 35
        }
      },
      "source": [
        "pkt[112].summary()"
      ],
      "execution_count": 0,
      "outputs": [
        {
          "output_type": "execute_result",
          "data": {
            "text/plain": [
              "'Ether / IP / UDP / DNS Qry \"b\\'amd.vendors.slashdot.org.\\'\" '"
            ]
          },
          "metadata": {
            "tags": []
          },
          "execution_count": 33
        }
      ]
    },
    {
      "cell_type": "code",
      "metadata": {
        "id": "yFl31VZPB6uH",
        "colab_type": "code",
        "outputId": "8e79ead2-ec73-46c9-967f-4111254e5dd0",
        "colab": {
          "base_uri": "https://localhost:8080/",
          "height": 35
        }
      },
      "source": [
        "pkt [112]['Ether'].fields               #ethernet header"
      ],
      "execution_count": 0,
      "outputs": [
        {
          "output_type": "execute_result",
          "data": {
            "text/plain": [
              "{'dst': '00:1f:f3:3c:e1:13', 'src': 'f8:1e:df:e5:84:3a', 'type': 2048}"
            ]
          },
          "metadata": {
            "tags": []
          },
          "execution_count": 67
        }
      ]
    },
    {
      "cell_type": "code",
      "metadata": {
        "id": "k1XbXPx6B9IG",
        "colab_type": "code",
        "outputId": "2864a2ce-41fa-4199-c664-c4a797efa79b",
        "colab": {
          "base_uri": "https://localhost:8080/",
          "height": 253
        }
      },
      "source": [
        "pkt [112]['IP'].fields                  #IP headers"
      ],
      "execution_count": 0,
      "outputs": [
        {
          "output_type": "execute_result",
          "data": {
            "text/plain": [
              "{'chksum': 11126,\n",
              " 'dst': '172.16.11.1',\n",
              " 'flags': <Flag 0 ()>,\n",
              " 'frag': 0,\n",
              " 'id': 8707,\n",
              " 'ihl': 5,\n",
              " 'len': 70,\n",
              " 'options': [],\n",
              " 'proto': 17,\n",
              " 'src': '172.16.11.12',\n",
              " 'tos': 0,\n",
              " 'ttl': 255,\n",
              " 'version': 4}"
            ]
          },
          "metadata": {
            "tags": []
          },
          "execution_count": 68
        }
      ]
    },
    {
      "cell_type": "code",
      "metadata": {
        "id": "bI5F04gkB-_v",
        "colab_type": "code",
        "outputId": "acc4eb3f-f23a-43e2-96c5-e2f6100702f2",
        "colab": {
          "base_uri": "https://localhost:8080/",
          "height": 35
        }
      },
      "source": [
        "pkt [112]['UDP'].fields                         #UDP header"
      ],
      "execution_count": 0,
      "outputs": [
        {
          "output_type": "execute_result",
          "data": {
            "text/plain": [
              "{'chksum': 26211, 'dport': 53, 'len': 50, 'sport': 60392}"
            ]
          },
          "metadata": {
            "tags": []
          },
          "execution_count": 69
        }
      ]
    },
    {
      "cell_type": "code",
      "metadata": {
        "id": "DsT7zrLFCA1N",
        "colab_type": "code",
        "outputId": "aa24e23e-f587-4583-e2aa-2d5909c5a288",
        "colab": {
          "base_uri": "https://localhost:8080/",
          "height": 380
        }
      },
      "source": [
        "pkt [112]['DNS'].fields                         #DNS header"
      ],
      "execution_count": 0,
      "outputs": [
        {
          "output_type": "execute_result",
          "data": {
            "text/plain": [
              "{'aa': 0,\n",
              " 'ad': 0,\n",
              " 'an': None,\n",
              " 'ancount': 0,\n",
              " 'ar': None,\n",
              " 'arcount': 0,\n",
              " 'cd': 0,\n",
              " 'id': 61992,\n",
              " 'length': None,\n",
              " 'ns': None,\n",
              " 'nscount': 0,\n",
              " 'opcode': 0,\n",
              " 'qd': <DNSQR  qname='amd.vendors.slashdot.org.' qtype=A qclass=IN |>,\n",
              " 'qdcount': 1,\n",
              " 'qr': 0,\n",
              " 'ra': 0,\n",
              " 'rcode': 0,\n",
              " 'rd': 1,\n",
              " 'tc': 0,\n",
              " 'z': 0}"
            ]
          },
          "metadata": {
            "tags": []
          },
          "execution_count": 70
        }
      ]
    },
    {
      "cell_type": "code",
      "metadata": {
        "id": "MK0U1ocGCCrT",
        "colab_type": "code",
        "outputId": "764c1665-c452-43b0-a985-5132fc0b1f08",
        "colab": {
          "base_uri": "https://localhost:8080/",
          "height": 35
        }
      },
      "source": [
        "pkt [112]['DNS']['DNSQR'].qname                 #DNS query address from a packet"
      ],
      "execution_count": 0,
      "outputs": [
        {
          "output_type": "execute_result",
          "data": {
            "text/plain": [
              "b'amd.vendors.slashdot.org.'"
            ]
          },
          "metadata": {
            "tags": []
          },
          "execution_count": 71
        }
      ]
    },
    {
      "cell_type": "code",
      "metadata": {
        "id": "VjBhO04dCFJE",
        "colab_type": "code",
        "outputId": "c11db443-9f33-40b1-a8bc-35cf684c3bb8",
        "colab": {
          "base_uri": "https://localhost:8080/",
          "height": 35
        }
      },
      "source": [
        "pkt [112].time                                  #Timestamp information"
      ],
      "execution_count": 0,
      "outputs": [
        {
          "output_type": "execute_result",
          "data": {
            "text/plain": [
              "Decimal('1278472581.941306')"
            ]
          },
          "metadata": {
            "tags": []
          },
          "execution_count": 72
        }
      ]
    },
    {
      "cell_type": "markdown",
      "metadata": {
        "id": "Bhaet8qqCM_R",
        "colab_type": "text"
      },
      "source": [
        "Popping Headers"
      ]
    },
    {
      "cell_type": "code",
      "metadata": {
        "id": "9MRtJMAzCI73",
        "colab_type": "code",
        "outputId": "5a76c0b5-a495-4f67-9a7e-6c8817eee3d8",
        "colab": {
          "base_uri": "https://localhost:8080/",
          "height": 90
        }
      },
      "source": [
        "eth_layer = pkt [112]\n",
        "ip_layer = eth_layer.payload\n",
        "segment = ip_layer.payload\n",
        "data = segment.payload\n",
        "\n",
        "print (eth_layer.summary())\n",
        "print (ip_layer.summary())\n",
        "print (segment.summary())\n",
        "print (data.summary())"
      ],
      "execution_count": 0,
      "outputs": [
        {
          "output_type": "stream",
          "text": [
            "Ether / IP / UDP / DNS Qry \"b'amd.vendors.slashdot.org.'\" \n",
            "IP / UDP / DNS Qry \"b'amd.vendors.slashdot.org.'\" \n",
            "UDP / DNS Qry \"b'amd.vendors.slashdot.org.'\" \n",
            "DNS Qry \"b'amd.vendors.slashdot.org.'\" \n"
          ],
          "name": "stdout"
        }
      ]
    },
    {
      "cell_type": "code",
      "metadata": {
        "id": "qXqiyQC0fiVy",
        "colab_type": "code",
        "outputId": "279dd6a3-5545-49cc-9126-d09a608da0af",
        "colab": {
          "base_uri": "https://localhost:8080/",
          "height": 889
        }
      },
      "source": [
        "pkt[112].show()    #entire packet, eth, IP, UDP and DNS headers"
      ],
      "execution_count": 0,
      "outputs": [
        {
          "output_type": "stream",
          "text": [
            "###[ Ethernet ]### \n",
            "  dst       = 00:1f:f3:3c:e1:13\n",
            "  src       = f8:1e:df:e5:84:3a\n",
            "  type      = IPv4\n",
            "###[ IP ]### \n",
            "     version   = 4\n",
            "     ihl       = 5\n",
            "     tos       = 0x0\n",
            "     len       = 70\n",
            "     id        = 8707\n",
            "     flags     = \n",
            "     frag      = 0\n",
            "     ttl       = 255\n",
            "     proto     = 17\n",
            "     chksum    = 0x2b76\n",
            "     src       = 172.16.11.12\n",
            "     dst       = 172.16.11.1\n",
            "     \\options   \\\n",
            "###[ UDP ]### \n",
            "        sport     = 60392\n",
            "        dport     = 53\n",
            "        len       = 50\n",
            "        chksum    = 0x6663\n",
            "###[ DNS ]### \n",
            "           id        = 61992\n",
            "           qr        = 0\n",
            "           opcode    = QUERY\n",
            "           aa        = 0\n",
            "           tc        = 0\n",
            "           rd        = 1\n",
            "           ra        = 0\n",
            "           z         = 0\n",
            "           ad        = 0\n",
            "           cd        = 0\n",
            "           rcode     = ok\n",
            "           qdcount   = 1\n",
            "           ancount   = 0\n",
            "           nscount   = 0\n",
            "           arcount   = 0\n",
            "           \\qd        \\\n",
            "            |###[ DNS Question Record ]### \n",
            "            |  qname     = 'amd.vendors.slashdot.org.'\n",
            "            |  qtype     = A\n",
            "            |  qclass    = IN\n",
            "           an        = None\n",
            "           ns        = None\n",
            "           ar        = None\n",
            "\n"
          ],
          "name": "stdout"
        }
      ]
    },
    {
      "cell_type": "markdown",
      "metadata": {
        "id": "P6A2jq7sFPe4",
        "colab_type": "text"
      },
      "source": [
        "# DNS Packets"
      ]
    },
    {
      "cell_type": "code",
      "metadata": {
        "id": "qGKWuHBmDKCm",
        "colab_type": "code",
        "outputId": "af2a4a90-7a47-4601-eed9-b4be02d938be",
        "colab": {
          "base_uri": "https://localhost:8080/",
          "height": 526
        }
      },
      "source": [
        "i = 0\n",
        "for a in pkt:\n",
        "    if 'DNSQR' in a:\n",
        "        print (i, a['DNSQR'].qname, a.time)\n",
        "    i += 1"
      ],
      "execution_count": 0,
      "outputs": [
        {
          "output_type": "stream",
          "text": [
            "20 b'e872.g.akamaiedge.net.' 1278472580.917638\n",
            "21 b'e872.g.akamaiedge.net.' 1278472580.928160\n",
            "22 b'e872.g.akamaiedge.net.' 1278472580.959680\n",
            "34 b'e872.g.akamaiedge.net.' 1278472581.097418\n",
            "112 b'amd.vendors.slashdot.org.' 1278472581.941306\n",
            "113 b'amd.vendors.slashdot.org.' 1278472581.951753\n",
            "114 b'amd.vendors.slashdot.org.' 1278472581.956658\n",
            "115 b'amd.vendors.slashdot.org.' 1278472581.957454\n",
            "116 b'rss.slashdot.org.' 1278472581.962723\n",
            "117 b'rss.slashdot.org.' 1278472581.972574\n",
            "118 b'rss.slashdot.org.' 1278472581.977141\n",
            "119 b'apache.slashdot.org.' 1278472581.981954\n",
            "120 b'apache.slashdot.org.' 1278472582.043529\n",
            "122 b'rss.slashdot.org.' 1278472582.049069\n",
            "124 b'bsd.slashdot.org.' 1278472582.103072\n",
            "125 b'bsd.slashdot.org.' 1278472582.113323\n",
            "126 b'entertainment.slashdot.org.' 1278472582.156342\n",
            "127 b'bsd.slashdot.org.' 1278472582.165740\n",
            "129 b'bsd.slashdot.org.' 1278472582.167586\n",
            "131 b'entertainment.slashdot.org.' 1278472582.167948\n",
            "132 b'features.slashdot.org.' 1278472582.176182\n",
            "133 b'entertainment.slashdot.org.' 1278472582.179388\n",
            "134 b'games.slashdot.org.' 1278472582.185783\n",
            "135 b'entertainment.slashdot.org.' 1278472582.193901\n",
            "136 b'games.slashdot.org.' 1278472582.196084\n",
            "137 b'games.slashdot.org.' 1278472582.202223\n",
            "138 b'games.slashdot.org.' 1278472582.214655\n",
            "139 b'features.slashdot.org.' 1278472582.246264\n"
          ],
          "name": "stdout"
        }
      ]
    },
    {
      "cell_type": "code",
      "metadata": {
        "id": "xvxLZdy5BTFm",
        "colab_type": "code",
        "outputId": "479e1cea-7f21-4052-826a-4fe7bae05e7a",
        "colab": {
          "base_uri": "https://localhost:8080/",
          "height": 126
        }
      },
      "source": [
        "hexdump(pkt[112])"
      ],
      "execution_count": 0,
      "outputs": [
        {
          "output_type": "stream",
          "text": [
            "0000  00 1F F3 3C E1 13 F8 1E DF E5 84 3A 08 00 45 00  ...<.......:..E.\n",
            "0010  00 46 22 03 00 00 FF 11 2B 76 AC 10 0B 0C AC 10  .F\".....+v......\n",
            "0020  0B 01 EB E8 00 35 00 32 66 63 F2 28 01 00 00 01  .....5.2fc.(....\n",
            "0030  00 00 00 00 00 00 03 61 6D 64 07 76 65 6E 64 6F  .......amd.vendo\n",
            "0040  72 73 08 73 6C 61 73 68 64 6F 74 03 6F 72 67 00  rs.slashdot.org.\n",
            "0050  00 01 00 01                                      ....\n"
          ],
          "name": "stdout"
        }
      ]
    },
    {
      "cell_type": "code",
      "metadata": {
        "id": "fICB77vmCGvr",
        "colab_type": "code",
        "outputId": "0d87de32-e028-47b1-f6de-a7a37251ccf3",
        "colab": {
          "base_uri": "https://localhost:8080/",
          "height": 162
        }
      },
      "source": [
        "!pip install matplotlib"
      ],
      "execution_count": 0,
      "outputs": [
        {
          "output_type": "stream",
          "text": [
            "Requirement already satisfied: matplotlib in /usr/local/lib/python3.6/dist-packages (3.2.1)\n",
            "Requirement already satisfied: cycler>=0.10 in /usr/local/lib/python3.6/dist-packages (from matplotlib) (0.10.0)\n",
            "Requirement already satisfied: pyparsing!=2.0.4,!=2.1.2,!=2.1.6,>=2.0.1 in /usr/local/lib/python3.6/dist-packages (from matplotlib) (2.4.6)\n",
            "Requirement already satisfied: python-dateutil>=2.1 in /usr/local/lib/python3.6/dist-packages (from matplotlib) (2.8.1)\n",
            "Requirement already satisfied: numpy>=1.11 in /usr/local/lib/python3.6/dist-packages (from matplotlib) (1.18.2)\n",
            "Requirement already satisfied: kiwisolver>=1.0.1 in /usr/local/lib/python3.6/dist-packages (from matplotlib) (1.1.0)\n",
            "Requirement already satisfied: six in /usr/local/lib/python3.6/dist-packages (from cycler>=0.10->matplotlib) (1.12.0)\n",
            "Requirement already satisfied: setuptools in /usr/local/lib/python3.6/dist-packages (from kiwisolver>=1.0.1->matplotlib) (46.0.0)\n"
          ],
          "name": "stdout"
        }
      ]
    },
    {
      "cell_type": "code",
      "metadata": {
        "id": "gnuEF2feCIfw",
        "colab_type": "code",
        "colab": {}
      },
      "source": [
        "from matplotlib import *"
      ],
      "execution_count": 0,
      "outputs": []
    },
    {
      "cell_type": "code",
      "metadata": {
        "id": "R7phq8TqB5rR",
        "colab_type": "code",
        "outputId": "ff3f32cb-98fb-4fb5-d95b-e8e0b9044638",
        "colab": {
          "base_uri": "https://localhost:8080/",
          "height": 55
        }
      },
      "source": [
        "pkt[112].canvas_dump"
      ],
      "execution_count": 0,
      "outputs": [
        {
          "output_type": "execute_result",
          "data": {
            "text/plain": [
              "<bound method Packet.canvas_dump of <Ether  dst=00:1f:f3:3c:e1:13 src=f8:1e:df:e5:84:3a type=IPv4 |<IP  version=4 ihl=5 tos=0x0 len=70 id=8707 flags= frag=0 ttl=255 proto=17 chksum=0x2b76 src=172.16.11.12 dst=172.16.11.1 |<UDP  sport=60392 dport=53 len=50 chksum=0x6663 |<DNS  id=61992 qr=0 opcode=QUERY aa=0 tc=0 rd=1 ra=0 z=0 ad=0 cd=0 rcode=ok qdcount=1 ancount=0 nscount=0 arcount=0 qd=<DNSQR  qname='amd.vendors.slashdot.org.' qtype=A qclass=IN |> an=None ns=None ar=None |>>>>>"
            ]
          },
          "metadata": {
            "tags": []
          },
          "execution_count": 14
        }
      ]
    },
    {
      "cell_type": "code",
      "metadata": {
        "id": "MpD3qgSUCOP8",
        "colab_type": "code",
        "colab": {}
      },
      "source": [
        ""
      ],
      "execution_count": 0,
      "outputs": []
    },
    {
      "cell_type": "code",
      "metadata": {
        "id": "i_i9GJtfB8aC",
        "colab_type": "code",
        "colab": {}
      },
      "source": [
        ""
      ],
      "execution_count": 0,
      "outputs": []
    },
    {
      "cell_type": "markdown",
      "metadata": {
        "id": "wp780OFREXcS",
        "colab_type": "text"
      },
      "source": [
        "## Graphing"
      ]
    },
    {
      "cell_type": "code",
      "metadata": {
        "id": "8Cpaoby19HO-",
        "colab_type": "code",
        "outputId": "5b3d49e5-9cd9-45ab-fffe-c89f17510ba1",
        "colab": {
          "base_uri": "https://localhost:8080/",
          "height": 171
        }
      },
      "source": [
        "pkt[0]"
      ],
      "execution_count": 0,
      "outputs": [
        {
          "output_type": "error",
          "ename": "NameError",
          "evalue": "ignored",
          "traceback": [
            "\u001b[0;31m---------------------------------------------------------------------------\u001b[0m",
            "\u001b[0;31mNameError\u001b[0m                                 Traceback (most recent call last)",
            "\u001b[0;32m<ipython-input-1-6d8c8d1f7db2>\u001b[0m in \u001b[0;36m<module>\u001b[0;34m()\u001b[0m\n\u001b[0;32m----> 1\u001b[0;31m \u001b[0mpkt\u001b[0m\u001b[0;34m[\u001b[0m\u001b[0;36m0\u001b[0m\u001b[0;34m]\u001b[0m\u001b[0;34m\u001b[0m\u001b[0;34m\u001b[0m\u001b[0m\n\u001b[0m",
            "\u001b[0;31mNameError\u001b[0m: name 'pkt' is not defined"
          ]
        }
      ]
    },
    {
      "cell_type": "code",
      "metadata": {
        "id": "fOpUUnutxhdc",
        "colab_type": "code",
        "colab": {}
      },
      "source": [
        ""
      ],
      "execution_count": 0,
      "outputs": []
    },
    {
      "cell_type": "code",
      "metadata": {
        "id": "JllFRXAqe8bU",
        "colab_type": "code",
        "colab": {}
      },
      "source": [
        ""
      ],
      "execution_count": 0,
      "outputs": []
    }
  ]
}