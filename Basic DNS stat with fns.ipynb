{
  "nbformat": 4,
  "nbformat_minor": 0,
  "metadata": {
    "colab": {
      "name": "ss test1",
      "provenance": [],
      "collapsed_sections": [],
      "machine_shape": "hm"
    },
    "kernelspec": {
      "name": "python3",
      "display_name": "Python 3"
    }
  },
  "cells": [
    {
      "cell_type": "markdown",
      "metadata": {
        "id": "FQ3YMGQV88lg",
        "colab_type": "text"
      },
      "source": [
        "Checking DNS pkt ratios in benign and malicious pcaps\n"
      ]
    },
    {
      "cell_type": "markdown",
      "metadata": {
        "id": "8JCQXdWNbpTF",
        "colab_type": "text"
      },
      "source": [
        "## Importing Scapy "
      ]
    },
    {
      "cell_type": "code",
      "metadata": {
        "id": "ylK7fnKwVRuX",
        "colab_type": "code",
        "outputId": "11b5ad11-5b93-4757-d42a-407e6aec48b1",
        "colab": {
          "base_uri": "https://localhost:8080/",
          "height": 34
        }
      },
      "source": [
        "!pip install scapy\n",
        "from scapy.utils import RawPcapReader, rdpcap\n",
        "from scapy.layers.l2 import Ether\n",
        "from scapy.layers.dns import DNS, DNSQR\n",
        "from scapy.layers.inet import IP, TCP, UDP"
      ],
      "execution_count": 14,
      "outputs": [
        {
          "output_type": "stream",
          "text": [
            "Requirement already satisfied: scapy in /usr/local/lib/python3.6/dist-packages (2.4.3)\n"
          ],
          "name": "stdout"
        }
      ]
    },
    {
      "cell_type": "markdown",
      "metadata": {
        "id": "mD3h7yEe7_R0",
        "colab_type": "text"
      },
      "source": [
        "Mount G Drive"
      ]
    },
    {
      "cell_type": "code",
      "metadata": {
        "id": "OstGyV4v9w1Q",
        "colab_type": "code",
        "outputId": "b7970097-91e8-400e-a5c7-9c69d239536e",
        "colab": {
          "base_uri": "https://localhost:8080/",
          "height": 124
        }
      },
      "source": [
        "from google.colab import drive\n",
        "drive.mount('/content/drive')"
      ],
      "execution_count": 0,
      "outputs": [
        {
          "output_type": "stream",
          "text": [
            "Go to this URL in a browser: https://accounts.google.com/o/oauth2/auth?client_id=947318989803-6bn6qk8qdgf4n4g3pfee6491hc0brc4i.apps.googleusercontent.com&redirect_uri=urn%3aietf%3awg%3aoauth%3a2.0%3aoob&response_type=code&scope=email%20https%3a%2f%2fwww.googleapis.com%2fauth%2fdocs.test%20https%3a%2f%2fwww.googleapis.com%2fauth%2fdrive%20https%3a%2f%2fwww.googleapis.com%2fauth%2fdrive.photos.readonly%20https%3a%2f%2fwww.googleapis.com%2fauth%2fpeopleapi.readonly\n",
            "\n",
            "Enter your authorization code:\n",
            "··········\n",
            "Mounted at /content/drive\n"
          ],
          "name": "stdout"
        }
      ]
    },
    {
      "cell_type": "markdown",
      "metadata": {
        "id": "I-vkgeO87tgU",
        "colab_type": "text"
      },
      "source": [
        "File list for parsing"
      ]
    },
    {
      "cell_type": "code",
      "metadata": {
        "id": "JJNAcsbS7i-4",
        "colab_type": "code",
        "colab": {
          "base_uri": "https://localhost:8080/",
          "height": 69
        },
        "outputId": "02508e95-d99a-4431-d2b7-371ead2f6905"
      },
      "source": [
        "with open('/content/drive/My Drive/Botnet Dataset/shreyyash/pcap_file_list.txt', 'r') as pcap_list:\n",
        "    data = pcap_list.read()\n",
        "    print (f'Following files will be parsed\\n{data}')"
      ],
      "execution_count": 21,
      "outputs": [
        {
          "output_type": "stream",
          "text": [
            "Following files will be parsed\n",
            "/content/drive/My Drive/Botnet Dataset/CTU DATASET/CTU MIXED CAPTURES/CTU_Mixed_Capture_1/2015-07-28_mixed.pcap\n",
            "/content/drive/My Drive/Botnet Dataset/CTU DATASET/CTU MIXED CAPTURES/CTU_Mixed_Capture_1/2015-07-28_mixed.before.infection.pcap\n"
          ],
          "name": "stdout"
        }
      ]
    },
    {
      "cell_type": "markdown",
      "metadata": {
        "id": "aeTExqU17vF4",
        "colab_type": "text"
      },
      "source": [
        "Add file to parse list"
      ]
    },
    {
      "cell_type": "code",
      "metadata": {
        "id": "Nx5MWJlm0vN0",
        "colab_type": "code",
        "colab": {
          "base_uri": "https://localhost:8080/",
          "height": 69
        },
        "outputId": "0ad95a76-10e0-435d-d278-626ac607dfed"
      },
      "source": [
        "with open('/content/drive/My Drive/Botnet Dataset/shreyyash/pcap_file_list.txt', 'a') as pcap_list:\n",
        "    new_file_path = str(input('Enter path of file to add to list: '))\n",
        "    new_file_path += '\\n' + new_file_path\n",
        "    pcap_list.write(new_file_path)\n"
      ],
      "execution_count": 19,
      "outputs": [
        {
          "output_type": "stream",
          "text": [
            "Enter path of file to add to list: test2\n",
            "/content/drive/My Drive/Botnet Dataset/CTU DATASET/CTU MIXED CAPTURES/CTU_Mixed_Capture_1/2015-07-28_mixed.pcap\n",
            "/content/drive/My Drive/Botnet Dataset/CTU DATASET/CTU MIXED CAPTURES/CTU_Mixed_Capture_1/2015-07-28_mixed.before.infection.pcaptest1test2\n"
          ],
          "name": "stdout"
        }
      ]
    },
    {
      "cell_type": "markdown",
      "metadata": {
        "id": "Le0RiHD98FSM",
        "colab_type": "text"
      },
      "source": [
        "Fn to open txt file and pass pcap file names"
      ]
    },
    {
      "cell_type": "code",
      "metadata": {
        "id": "VPvhq1gqjT4k",
        "colab_type": "code",
        "colab": {}
      },
      "source": [
        "def pcap_name_read():\n",
        "    with open('/content/drive/My Drive/Botnet Dataset/shreyyash/pcap_file_list.txt', 'r') as pcap_list:\n",
        "        data = pcap_list.read()\n",
        "        pcap_names = data.split('\\n')\n",
        "        \n",
        "    for file_name in pcap_names:\n",
        "        pcap_streams(file_name)\n",
        "        pcap_pkt_data(file_name)"
      ],
      "execution_count": 0,
      "outputs": []
    },
    {
      "cell_type": "markdown",
      "metadata": {
        "id": "8zqgLTnB8Plk",
        "colab_type": "text"
      },
      "source": [
        "Fn to make uni directional flows, count DNS flows and show %s using rdpcap"
      ]
    },
    {
      "cell_type": "code",
      "metadata": {
        "id": "lD44taD8p3K8",
        "colab_type": "code",
        "colab": {}
      },
      "source": [
        "def pcap_streams(file_name):\n",
        "    pcap_data = rdpcap(file_name)\n",
        "    print (f'{file_name} read')\n",
        "\n",
        "    pcap_streams = pcap_data.sessions()    # extracting flows (Unidirectiuonal)\n",
        "\n",
        "    #Counting DNS Flows from total flows\n",
        "    dns_count = 0\n",
        "    dnsPortNo_matchPattern = ':53 '\n",
        "    for stream_name in pcap_streams.keys():\n",
        "        if dnsPortNo_matchPattern in (stream_name + \" \"):\n",
        "            dns_count += 1\n",
        " \n",
        "    print (f'{dns_count} DNS Flows and {len (pcap_streams)} Total flows in PCAP file')\n",
        "    print (f'Ratio of DNS flows to Total is {(dns_count*100)/(len (pcap_streams))}%')"
      ],
      "execution_count": 0,
      "outputs": []
    },
    {
      "cell_type": "markdown",
      "metadata": {
        "id": "ljy9H_0T8deo",
        "colab_type": "text"
      },
      "source": [
        "Fn to count DNS pkts and show %s using RawPcapReader"
      ]
    },
    {
      "cell_type": "code",
      "metadata": {
        "id": "abHkndmevZZQ",
        "colab_type": "code",
        "colab": {}
      },
      "source": [
        "def pcap_pkt_data(file_name):\n",
        "    #DNS pkt count in total pkts\n",
        "    i = 0   #pkt count\n",
        "    dns_pkt_count = 0\n",
        "\n",
        "    for (pkt_data, pkt_metadata ) in RawPcapReader(file_name):\n",
        "        frm = Ether(pkt_data)\n",
        "        i += 1\n",
        "        try:\n",
        "            if DNS in frm and frm[IP].proto == 17 and((frm[UDP].sport == 53) or (frm[UDP].dport == 53)):         \n",
        "                dns_pkt_count += 1\n",
        "        except:\n",
        "            print (f'check pkt no {i}')\n",
        "\n",
        "    print(f'{dns_pkt_count}  DNS pkts from total {i} pkts, ratio is {(dns_pkt_count*100)/(i)}%\\n')"
      ],
      "execution_count": 0,
      "outputs": []
    },
    {
      "cell_type": "markdown",
      "metadata": {
        "id": "QH-z1T2q8jtE",
        "colab_type": "text"
      },
      "source": [
        "Main Fn of file"
      ]
    },
    {
      "cell_type": "code",
      "metadata": {
        "id": "HXU50s7ComXE",
        "colab_type": "code",
        "colab": {}
      },
      "source": [
        "pcap_name_read()"
      ],
      "execution_count": 0,
      "outputs": []
    }
  ]
}